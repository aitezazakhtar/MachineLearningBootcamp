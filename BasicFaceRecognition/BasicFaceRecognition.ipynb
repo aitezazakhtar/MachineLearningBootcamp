{
 "cells": [
  {
   "cell_type": "markdown",
   "metadata": {
    "id": "n3IIac7GSVjP"
   },
   "source": [
    "## **Facial Recognition System**"
   ]
  },
  {
   "cell_type": "code",
   "execution_count": 3,
   "metadata": {
    "id": "pshDkWdyVYvy"
   },
   "outputs": [
    {
     "name": "stdout",
     "output_type": "stream",
     "text": [
      "Collecting face_recognition\n",
      "  Downloading face_recognition-1.3.0-py2.py3-none-any.whl (15 kB)\n",
      "Collecting face-recognition-models>=0.3.0\n",
      "  Downloading face_recognition_models-0.3.0.tar.gz (100.1 MB)\n",
      "Collecting dlib>=19.7\n",
      "  Downloading dlib-19.22.1.tar.gz (7.4 MB)\n",
      "Requirement already satisfied: numpy in d:\\anaconda\\lib\\site-packages (from face_recognition) (1.19.5)\n",
      "Requirement already satisfied: Click>=6.0 in d:\\anaconda\\lib\\site-packages (from face_recognition) (7.1.2)\n",
      "Requirement already satisfied: Pillow in d:\\anaconda\\lib\\site-packages (from face_recognition) (8.2.0)\n",
      "Building wheels for collected packages: dlib, face-recognition-models\n",
      "  Building wheel for dlib (setup.py): started\n",
      "  Building wheel for dlib (setup.py): finished with status 'error'\n",
      "  Running setup.py clean for dlib\n",
      "  Building wheel for face-recognition-models (setup.py): started\n",
      "  Building wheel for face-recognition-models (setup.py): finished with status 'done'\n",
      "  Created wheel for face-recognition-models: filename=face_recognition_models-0.3.0-py2.py3-none-any.whl size=100566173 sha256=c1678050dd6268c03a0871f203fd3999513c2f3bf373d197dd8bd89b3f86824c\n",
      "  Stored in directory: c:\\users\\abid\\appdata\\local\\pip\\cache\\wheels\\b4\\4b\\8f\\751e99d45f089bdf366a7d3e5066db3c2b84a62e4377f534d7\n",
      "Successfully built face-recognition-models\n",
      "Failed to build dlib\n",
      "Installing collected packages: face-recognition-models, dlib, face-recognition\n",
      "    Running setup.py install for dlib: started\n",
      "    Running setup.py install for dlib: finished with status 'error'\n"
     ]
    },
    {
     "name": "stderr",
     "output_type": "stream",
     "text": [
      "  ERROR: Command errored out with exit status 1:\n",
      "   command: 'D:\\Anaconda\\python.exe' -u -c 'import sys, setuptools, tokenize; sys.argv[0] = '\"'\"'C:\\\\Users\\\\Abid\\\\AppData\\\\Local\\\\Temp\\\\pip-install-fiv76qua\\\\dlib_278813d650114fd495c423aa49d29c53\\\\setup.py'\"'\"'; __file__='\"'\"'C:\\\\Users\\\\Abid\\\\AppData\\\\Local\\\\Temp\\\\pip-install-fiv76qua\\\\dlib_278813d650114fd495c423aa49d29c53\\\\setup.py'\"'\"';f=getattr(tokenize, '\"'\"'open'\"'\"', open)(__file__);code=f.read().replace('\"'\"'\\r\\n'\"'\"', '\"'\"'\\n'\"'\"');f.close();exec(compile(code, __file__, '\"'\"'exec'\"'\"'))' bdist_wheel -d 'C:\\Users\\Abid\\AppData\\Local\\Temp\\pip-wheel-uz980k0m'\n",
      "       cwd: C:\\Users\\Abid\\AppData\\Local\\Temp\\pip-install-fiv76qua\\dlib_278813d650114fd495c423aa49d29c53\\\n",
      "  Complete output (8 lines):\n",
      "  running bdist_wheel\n",
      "  running build\n",
      "  running build_py\n",
      "  package init file 'tools\\python\\dlib\\__init__.py' not found (or not a regular file)\n",
      "  running build_ext\n",
      "  \n",
      "  ERROR: CMake must be installed to build dlib\n",
      "  \n",
      "  ----------------------------------------\n",
      "  ERROR: Failed building wheel for dlib\n",
      "    ERROR: Command errored out with exit status 1:\n",
      "     command: 'D:\\Anaconda\\python.exe' -u -c 'import sys, setuptools, tokenize; sys.argv[0] = '\"'\"'C:\\\\Users\\\\Abid\\\\AppData\\\\Local\\\\Temp\\\\pip-install-fiv76qua\\\\dlib_278813d650114fd495c423aa49d29c53\\\\setup.py'\"'\"'; __file__='\"'\"'C:\\\\Users\\\\Abid\\\\AppData\\\\Local\\\\Temp\\\\pip-install-fiv76qua\\\\dlib_278813d650114fd495c423aa49d29c53\\\\setup.py'\"'\"';f=getattr(tokenize, '\"'\"'open'\"'\"', open)(__file__);code=f.read().replace('\"'\"'\\r\\n'\"'\"', '\"'\"'\\n'\"'\"');f.close();exec(compile(code, __file__, '\"'\"'exec'\"'\"'))' install --record 'C:\\Users\\Abid\\AppData\\Local\\Temp\\pip-record-0itz4k3q\\install-record.txt' --single-version-externally-managed --compile --install-headers 'D:\\Anaconda\\Include\\dlib'\n",
      "         cwd: C:\\Users\\Abid\\AppData\\Local\\Temp\\pip-install-fiv76qua\\dlib_278813d650114fd495c423aa49d29c53\\\n",
      "    Complete output (8 lines):\n",
      "    running install\n",
      "    running build\n",
      "    running build_py\n",
      "    package init file 'tools\\python\\dlib\\__init__.py' not found (or not a regular file)\n",
      "    running build_ext\n",
      "    \n",
      "    ERROR: CMake must be installed to build dlib\n",
      "    \n",
      "    ----------------------------------------\n",
      "ERROR: Command errored out with exit status 1: 'D:\\Anaconda\\python.exe' -u -c 'import sys, setuptools, tokenize; sys.argv[0] = '\"'\"'C:\\\\Users\\\\Abid\\\\AppData\\\\Local\\\\Temp\\\\pip-install-fiv76qua\\\\dlib_278813d650114fd495c423aa49d29c53\\\\setup.py'\"'\"'; __file__='\"'\"'C:\\\\Users\\\\Abid\\\\AppData\\\\Local\\\\Temp\\\\pip-install-fiv76qua\\\\dlib_278813d650114fd495c423aa49d29c53\\\\setup.py'\"'\"';f=getattr(tokenize, '\"'\"'open'\"'\"', open)(__file__);code=f.read().replace('\"'\"'\\r\\n'\"'\"', '\"'\"'\\n'\"'\"');f.close();exec(compile(code, __file__, '\"'\"'exec'\"'\"'))' install --record 'C:\\Users\\Abid\\AppData\\Local\\Temp\\pip-record-0itz4k3q\\install-record.txt' --single-version-externally-managed --compile --install-headers 'D:\\Anaconda\\Include\\dlib' Check the logs for full command output.\n"
     ]
    },
    {
     "name": "stdout",
     "output_type": "stream",
     "text": [
      "Collecting face_recognition\n",
      "  Using cached face_recognition-1.3.0-py2.py3-none-any.whl (15 kB)\n",
      "Requirement already satisfied: face-recognition-models>=0.3.0 in d:\\anaconda\\lib\\site-packages (from face_recognition) (0.3.0)\n",
      "Requirement already satisfied: Click>=6.0 in d:\\anaconda\\lib\\site-packages (from face_recognition) (7.1.2)\n",
      "Requirement already satisfied: Pillow in d:\\anaconda\\lib\\site-packages (from face_recognition) (8.2.0)\n",
      "Requirement already satisfied: numpy in d:\\anaconda\\lib\\site-packages (from face_recognition) (1.19.5)\n",
      "Collecting dlib>=19.7\n",
      "  Using cached dlib-19.22.1.tar.gz (7.4 MB)\n",
      "Building wheels for collected packages: dlib\n",
      "  Building wheel for dlib (setup.py): started\n",
      "  Building wheel for dlib (setup.py): finished with status 'error'\n",
      "  Running setup.py clean for dlib\n",
      "Failed to build dlib\n",
      "Installing collected packages: dlib, face-recognition\n",
      "    Running setup.py install for dlib: started\n",
      "    Running setup.py install for dlib: finished with status 'error'\n"
     ]
    },
    {
     "name": "stderr",
     "output_type": "stream",
     "text": [
      "  ERROR: Command errored out with exit status 1:\n",
      "   command: 'D:\\Anaconda\\python.exe' -u -c 'import sys, setuptools, tokenize; sys.argv[0] = '\"'\"'C:\\\\Users\\\\Abid\\\\AppData\\\\Local\\\\Temp\\\\pip-install-httzdbwb\\\\dlib_ce39539f368143cf9ca40fbe5d55a6dc\\\\setup.py'\"'\"'; __file__='\"'\"'C:\\\\Users\\\\Abid\\\\AppData\\\\Local\\\\Temp\\\\pip-install-httzdbwb\\\\dlib_ce39539f368143cf9ca40fbe5d55a6dc\\\\setup.py'\"'\"';f=getattr(tokenize, '\"'\"'open'\"'\"', open)(__file__);code=f.read().replace('\"'\"'\\r\\n'\"'\"', '\"'\"'\\n'\"'\"');f.close();exec(compile(code, __file__, '\"'\"'exec'\"'\"'))' bdist_wheel -d 'C:\\Users\\Abid\\AppData\\Local\\Temp\\pip-wheel-1nahp_fz'\n",
      "       cwd: C:\\Users\\Abid\\AppData\\Local\\Temp\\pip-install-httzdbwb\\dlib_ce39539f368143cf9ca40fbe5d55a6dc\\\n",
      "  Complete output (8 lines):\n",
      "  running bdist_wheel\n",
      "  running build\n",
      "  running build_py\n",
      "  package init file 'tools\\python\\dlib\\__init__.py' not found (or not a regular file)\n",
      "  running build_ext\n",
      "  \n",
      "  ERROR: CMake must be installed to build dlib\n",
      "  \n",
      "  ----------------------------------------\n",
      "  ERROR: Failed building wheel for dlib\n",
      "    ERROR: Command errored out with exit status 1:\n",
      "     command: 'D:\\Anaconda\\python.exe' -u -c 'import sys, setuptools, tokenize; sys.argv[0] = '\"'\"'C:\\\\Users\\\\Abid\\\\AppData\\\\Local\\\\Temp\\\\pip-install-httzdbwb\\\\dlib_ce39539f368143cf9ca40fbe5d55a6dc\\\\setup.py'\"'\"'; __file__='\"'\"'C:\\\\Users\\\\Abid\\\\AppData\\\\Local\\\\Temp\\\\pip-install-httzdbwb\\\\dlib_ce39539f368143cf9ca40fbe5d55a6dc\\\\setup.py'\"'\"';f=getattr(tokenize, '\"'\"'open'\"'\"', open)(__file__);code=f.read().replace('\"'\"'\\r\\n'\"'\"', '\"'\"'\\n'\"'\"');f.close();exec(compile(code, __file__, '\"'\"'exec'\"'\"'))' install --record 'C:\\Users\\Abid\\AppData\\Local\\Temp\\pip-record-_p4u_onh\\install-record.txt' --single-version-externally-managed --compile --install-headers 'D:\\Anaconda\\Include\\dlib'\n",
      "         cwd: C:\\Users\\Abid\\AppData\\Local\\Temp\\pip-install-httzdbwb\\dlib_ce39539f368143cf9ca40fbe5d55a6dc\\\n",
      "    Complete output (8 lines):\n",
      "    running install\n",
      "    running build\n",
      "    running build_py\n",
      "    package init file 'tools\\python\\dlib\\__init__.py' not found (or not a regular file)\n",
      "    running build_ext\n",
      "    \n",
      "    ERROR: CMake must be installed to build dlib\n",
      "    \n",
      "    ----------------------------------------\n",
      "ERROR: Command errored out with exit status 1: 'D:\\Anaconda\\python.exe' -u -c 'import sys, setuptools, tokenize; sys.argv[0] = '\"'\"'C:\\\\Users\\\\Abid\\\\AppData\\\\Local\\\\Temp\\\\pip-install-httzdbwb\\\\dlib_ce39539f368143cf9ca40fbe5d55a6dc\\\\setup.py'\"'\"'; __file__='\"'\"'C:\\\\Users\\\\Abid\\\\AppData\\\\Local\\\\Temp\\\\pip-install-httzdbwb\\\\dlib_ce39539f368143cf9ca40fbe5d55a6dc\\\\setup.py'\"'\"';f=getattr(tokenize, '\"'\"'open'\"'\"', open)(__file__);code=f.read().replace('\"'\"'\\r\\n'\"'\"', '\"'\"'\\n'\"'\"');f.close();exec(compile(code, __file__, '\"'\"'exec'\"'\"'))' install --record 'C:\\Users\\Abid\\AppData\\Local\\Temp\\pip-record-_p4u_onh\\install-record.txt' --single-version-externally-managed --compile --install-headers 'D:\\Anaconda\\Include\\dlib' Check the logs for full command output.\n"
     ]
    }
   ],
   "source": [
    "!pip install face_recognition"
   ]
  },
  {
   "cell_type": "markdown",
   "metadata": {
    "id": "rF-BTaHyborv"
   },
   "source": [
    "# **Training Images**"
   ]
  },
  {
   "cell_type": "code",
   "execution_count": null,
   "metadata": {
    "id": "CjXPiwpeVba3",
    "scrolled": true
   },
   "outputs": [],
   "source": [
    "import face_recognition\n",
    "import numpy as np\n",
    "from PIL import Image, ImageDraw\n",
    "from IPython.display import display\n",
    "from google.colab.patches import cv2_imshow\n",
    "import cv2\n",
    "import os\n",
    "from datetime import datetime\n",
    "\n",
    "\n",
    "face_1 = face_recognition.load_image_file(\"Faces/elonmusk.jpg\")\n",
    "face_1_encoding = face_recognition.face_encodings(face_1)[0]\n",
    "\n",
    "face_2 = face_recognition.load_image_file(\"Faces/emmawatson.jpg\")\n",
    "face_2_encoding = face_recognition.face_encodings(face_2)[0]\n",
    "\n",
    "face_3 = face_recognition.load_image_file(\"Faces/robertdownyjr.jpg\")\n",
    "face_3_encoding = face_recognition.face_encodings(face_3)[0]\n",
    "\n",
    "face_4 = face_recognition.load_image_file(\"Faces/sundarpichai.jpg\")\n",
    "face_4_encoding = face_recognition.face_encodings(face_3)[0]\n",
    "\n",
    "known_face_encodings = [\n",
    "    face_1_encoding,\n",
    "    face_2_encoding,\n",
    "    face_3_encoding,\n",
    "    face_4_encoding,\n",
    "]\n",
    "known_face_names = [\n",
    "    \"Elon Musk\",\n",
    "    \"Emma Watson\",\n",
    "    \"Robert Downy Jr.\",\n",
    "    \"Sundar Pichai\"\n",
    "]\n",
    "\n",
    "print(\"Done learning and creating profiles\")"
   ]
  },
  {
   "cell_type": "markdown",
   "metadata": {
    "id": "1H9QzThobuSw"
   },
   "source": [
    "# **Initializing function to add names to the \"attendance_list.csv\" file**"
   ]
  },
  {
   "cell_type": "code",
   "execution_count": null,
   "metadata": {
    "id": "GVEbG_BiZC-8"
   },
   "outputs": [],
   "source": [
    "def makeAttendanceEntry(name):\n",
    "    with open('Faces/attendance_list.csv','r+') as FILE: #Opening file for reading and writing\n",
    "        allLines = FILE.readlines()  # All rows will be saved in All lines\n",
    "        attendanceList = []\n",
    "        for line in allLines:\n",
    "            entry = line.split(',')\n",
    "            attendanceList.append(entry[0])\n",
    "        #if name not in attendanceList:\n",
    "        now = datetime.now()\n",
    "        dtString = now.strftime('%d/%b/%Y, %H:%M:%S')\n",
    "        FILE.writelines(f'\\n{name},{dtString}')"
   ]
  },
  {
   "cell_type": "markdown",
   "metadata": {
    "id": "FvNxvs5zb42r"
   },
   "source": [
    "# **Performing Face Recognition and Entering Attendance with time-stamp**"
   ]
  },
  {
   "cell_type": "code",
   "execution_count": null,
   "metadata": {
    "id": "W4VTNtaUVfwm"
   },
   "outputs": [],
   "source": [
    "file_name = \"Faces/Unknowns/unknown02.jpg\"\n",
    "unknown_image = face_recognition.load_image_file(file_name)\n",
    "unknown_image_to_draw = cv2.imread(file_name)\n",
    "\n",
    "face_locations = face_recognition.face_locations(unknown_image)\n",
    "face_encodings = face_recognition.face_encodings(unknown_image, face_locations)\n",
    "\n",
    "pil_image = Image.fromarray(unknown_image)\n",
    "draw = ImageDraw.Draw(pil_image)\n",
    "\n",
    "for (top, right, bottom, left), face_encoding in zip(face_locations, face_encodings):\n",
    "    # See if the face is a match for the known face(s)\n",
    "    matches = face_recognition.compare_faces(known_face_encodings, face_encoding)\n",
    "\n",
    "    name = \"Unknown\"\n",
    "\n",
    "    face_distances = face_recognition.face_distance(known_face_encodings, face_encoding)\n",
    "    best_match_index = np.argmin(face_distances)\n",
    "    if matches[best_match_index]:\n",
    "        name = known_face_names[best_match_index]\n",
    "\n",
    "    # Draw a box around the face using the Pillow module\n",
    "    cv2.rectangle(unknown_image_to_draw,(left, top), (right, bottom), (0,255,0),3 )\n",
    "    draw.rectangle(((left, top), (right, bottom)), outline=(0, 255, 255))\n",
    "    cv2.putText(unknown_image_to_draw,name,(left,top-20), cv2.FONT_HERSHEY_SIMPLEX,1, (0,0,255), 2,cv2.LINE_AA)\n",
    "    print(name)\n",
    "    makeAttendanceEntry(name)\n",
    "\n",
    "# display(pil_image)\n",
    "cv2_imshow(unknown_image_to_draw)"
   ]
  },
  {
   "cell_type": "markdown",
   "metadata": {
    "id": "U-iKoT_aXj1P"
   },
   "source": [
    "## **Just Explore Attendance Sheet**"
   ]
  },
  {
   "cell_type": "code",
   "execution_count": null,
   "metadata": {
    "id": "qw4bTROpWzi3"
   },
   "outputs": [],
   "source": [
    "import pandas as pd\n",
    "\n",
    "sheet = pd.read_csv(\"Faces/attendance_list.csv\", header=None)\n",
    "sheet.columns = [\"Names\", \"Date\", \"Time\"]\n",
    "sheet.head()"
   ]
  }
 ],
 "metadata": {
  "accelerator": "GPU",
  "colab": {
   "name": "27_Basic_Face_Recognition.ipynb",
   "provenance": []
  },
  "kernelspec": {
   "display_name": "Python 3",
   "language": "python",
   "name": "python3"
  },
  "language_info": {
   "codemirror_mode": {
    "name": "ipython",
    "version": 3
   },
   "file_extension": ".py",
   "mimetype": "text/x-python",
   "name": "python",
   "nbconvert_exporter": "python",
   "pygments_lexer": "ipython3",
   "version": "3.8.8"
  }
 },
 "nbformat": 4,
 "nbformat_minor": 1
}
