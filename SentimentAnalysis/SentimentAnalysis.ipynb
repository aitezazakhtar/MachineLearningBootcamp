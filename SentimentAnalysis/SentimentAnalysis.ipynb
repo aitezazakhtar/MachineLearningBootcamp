{
 "cells": [
  {
   "cell_type": "markdown",
   "id": "e5b14fcd",
   "metadata": {},
   "source": [
    "# Sentiment Analysis"
   ]
  },
  {
   "cell_type": "markdown",
   "id": "644f67b0",
   "metadata": {},
   "source": [
    "This notebook trains a sentiment analysis model to classify movie reviews as positive or negative, based on the text of the review. \n",
    "\n",
    "We'll use the [Large Movie Review Dataset](https://ai.stanford.edu/~amaas/data/sentiment/) that contains the text of 50,000 movie reviews from the [Internet Movie Database](https://www.imdb.com/). These are split into 25,000 reviews for training and 25,000 reviews for testing. The training and testing sets are *balanced*, meaning they contain an equal number of positive and negative reviews."
   ]
  },
  {
   "cell_type": "markdown",
   "id": "21ce63a9",
   "metadata": {},
   "source": [
    "## Import Libraries"
   ]
  },
  {
   "cell_type": "code",
   "execution_count": 4,
   "id": "2100223c",
   "metadata": {},
   "outputs": [],
   "source": [
    "import matplotlib.pyplot as plt\n",
    "import os\n",
    "import re\n",
    "import shutil\n",
    "import string\n",
    "import tensorflow as tf\n",
    "\n",
    "from tensorflow.keras import layers, losses, preprocessing\n",
    "from tensorflow.keras.layers.experimental.preprocessing import TextVectorization"
   ]
  },
  {
   "cell_type": "markdown",
   "id": "bf76bb72",
   "metadata": {},
   "source": [
    "## Download and Explore IMDB Dataset"
   ]
  },
  {
   "cell_type": "code",
   "execution_count": 5,
   "id": "d0dd694a",
   "metadata": {},
   "outputs": [],
   "source": [
    "url = \"https://ai.stanford.edu/~amaas/data/sentiment/aclImdb_v1.tar.gz\""
   ]
  },
  {
   "cell_type": "code",
   "execution_count": 6,
   "id": "1c5be757",
   "metadata": {},
   "outputs": [],
   "source": [
    "dataset = tf.keras.utils.get_file(\"aclImdb_v1.tar.gz\", url,\n",
    "                                 untar=True, cache_dir='.', cache_subdir='')"
   ]
  },
  {
   "cell_type": "code",
   "execution_count": 15,
   "id": "19002d28",
   "metadata": {},
   "outputs": [
    {
     "data": {
      "text/plain": [
       "'.\\\\aclImdb'"
      ]
     },
     "execution_count": 15,
     "metadata": {},
     "output_type": "execute_result"
    }
   ],
   "source": [
    "dataset_dir = os.path.join(os.path.dirname(dataset), \"aclImdb\")\n",
    "dataset_dir"
   ]
  },
  {
   "cell_type": "code",
   "execution_count": 16,
   "id": "cd6e3ced",
   "metadata": {},
   "outputs": [
    {
     "data": {
      "text/plain": [
       "['imdb.vocab', 'imdbEr.txt', 'README', 'test', 'train']"
      ]
     },
     "execution_count": 16,
     "metadata": {},
     "output_type": "execute_result"
    }
   ],
   "source": [
    "os.listdir(dataset_dir)"
   ]
  },
  {
   "cell_type": "code",
   "execution_count": 18,
   "id": "973e8c57",
   "metadata": {},
   "outputs": [
    {
     "data": {
      "text/plain": [
       "['labeledBow.feat',\n",
       " 'neg',\n",
       " 'pos',\n",
       " 'unsup',\n",
       " 'unsupBow.feat',\n",
       " 'urls_neg.txt',\n",
       " 'urls_pos.txt',\n",
       " 'urls_unsup.txt']"
      ]
     },
     "execution_count": 18,
     "metadata": {},
     "output_type": "execute_result"
    }
   ],
   "source": [
    "train_dir = os.path.join(dataset_dir, 'train')\n",
    "os.listdir(train_dir)"
   ]
  },
  {
   "cell_type": "code",
   "execution_count": 20,
   "id": "c975641a",
   "metadata": {},
   "outputs": [
    {
     "name": "stdout",
     "output_type": "stream",
     "text": [
      "Rachel Griffiths writes and directs this award winning short film. A heartwarming story about coping with grief and cherishing the memory of those we've loved and lost. Although, only 15 minutes long, Griffiths manages to capture so much emotion and truth onto film in the short space of time. Bud Tingwell gives a touching performance as Will, a widower struggling to cope with his wife's death. Will is confronted by the harsh reality of loneliness and helplessness as he proceeds to take care of Ruth's pet cow, Tulip. The film displays the grief and responsibility one feels for those they have loved and lost. Good cinematography, great direction, and superbly acted. It will bring tears to all those who have lost a loved one, and survived.\n"
     ]
    }
   ],
   "source": [
    "sample_file = os.path.join(train_dir,'pos/1181_9.txt')\n",
    "with open(sample_file) as f:\n",
    "    print(f.read())"
   ]
  },
  {
   "cell_type": "code",
   "execution_count": 26,
   "id": "e9f46629",
   "metadata": {},
   "outputs": [],
   "source": [
    "remove_dir = os.path.join(train_dir,'unsup')\n",
    "shutil.rmtree(remove_dir)"
   ]
  },
  {
   "cell_type": "code",
   "execution_count": 29,
   "id": "f2ef8b8b",
   "metadata": {},
   "outputs": [
    {
     "name": "stdout",
     "output_type": "stream",
     "text": [
      "Found 25000 files belonging to 2 classes.\n",
      "Using 20000 files for training.\n"
     ]
    }
   ],
   "source": [
    "batch_size=32\n",
    "seed=42\n",
    "\n",
    "raw_train_ds = tf.keras.preprocessing.text_dataset_from_directory(\n",
    "    'aclImdb/train', \n",
    "     batch_size=batch_size,\n",
    "     validation_split=0.2,\n",
    "     subset='training',\n",
    "     seed=seed)"
   ]
  },
  {
   "cell_type": "code",
   "execution_count": 39,
   "id": "af091f7e",
   "metadata": {},
   "outputs": [
    {
     "name": "stdout",
     "output_type": "stream",
     "text": [
      "Review:  b'\"A young woman suffers from the delusion that she is a werewolf, based upon a family legend of an ancestor accused of and killed for allegedly being one. Due to her past treatment by men, she travels the countryside seducing and killing the men she meets. Falling in love with a kind man, her life appears to take a turn for the better when she is raped and her lover is killed by a band of thugs. Traumatized again by these latest events, the woman returns to her violent ways and seeks revenge on the thugs,\" according to the DVD sleeve\\'s synopsis.<br /><br />Rino Di Silvestro\\'s \"La lupa mannara\" begins with full frontal, writhing, moaning dance by shapely blonde Annik Borel, who (as Daniella Neseri) mistakenly believes she is a werewolf. The hottest part is when the camera catches background fire between her legs. The opening \"flashback\" reveals her hairy ancestor was (probably) a lycanthropic creature. Ms. Borel is, unfortunately, not a werewolf; she is merely a very strong lunatic.<br /><br />As a film, \"Werewolf Woman\" (in English) would have been better if Borel\\'s character really was a female werewolf; with her sexual victimization a great bit of characterization. But, as far as 1970s skin and blood flicks go, this one is hard to beat. Bouncy Borel is either nude or sexily clad throughout the film, which features a fair amount of gratuitous gore. Dazzling Dagmar Lassander (as Elena) and hunky Howard Ross (as Luca) are good supporting players.'\n",
      "Label:  0\n",
      "Review:  b'I really wanted to like this movie, but it was just imposable. The acting was ultra hammy, the plot was annoying, and the pace was SLOW, sooo slowwwwww. The whole time sitting in the theater i wanted the movie to end. Twenty minuets into a films and I\\'m praying for an ending. Sure some of the visuals were nice, but c\\'mon guys, I mean really! And for a movie about a guy tuning magical instruments there really wasn\\'t much music to speak of. The music there was was annoying, and boring. There were sound loud shrill sounds at times too, those were also annoying. Mainly this film managed to bore me, and creep me out at the same time.<br /><br />I\\'m glad its over. I need to go see \"Tideland\" and wash this bad taste out of my mouth.'\n",
      "Label:  0\n",
      "Review:  b'Where to begin? <br /><br />#1 Amitabh\\'s son, played by Akshaye Khanna, is 30.<br /><br />Amitabh\\'s been in prison for 33+ years... he<br /><br />A) Telepathically transmitted the sperm home?<br /><br />B) Asked a nice Pakistani guard to mail it for him?<br /><br />C) They allow conjugal visits in secret Pakistani Jails<br /><br />D) All of the above<br /><br />E) The producers were having a little too much bhang at<br /><br />the time they approved the script?<br /><br />#2) Amrita Rao (Yummm!) wants Khanna - he\\'s yum, yum, yummy... and apparently he wants her - who wouldn\\'t, right?!... But, when her dad gets ratted out, and then killed (I hardly think this is a \\'spoiler\\' as you\\'d have to be brain-dead and blind not to see this coming in the film) he\\'s pretty emotionless towards this catastrophe and with the tip (metaphorically) of his hat, leaves her behind to save his dad, never mind her loss, and says (paraphrasing) \"If god wills it, we\\'ll meet again\"... Basically meaning, \"I\\'m gonna get my dad and MY job done, sorry for your loss - CYA! Buh Bye!\" - callus beyond even low-life Hollywood standards...<br /><br />#3) There are so many holes in this horrible waste of time called a movie, that you can drive all the jeeps, trucks camels and any extra stuff through it. Pass - really, complete and total waste of time - Oh! There is a great dance sequence (yes, only one - as in dance sequence - regardless of quality) great belly dancing - but NOT worth watching just for this.<br /><br />Rent Veer-Zaara or Lakshya (will Hrithik Roshan ever take acting lessons?) for better Indo-Pak conflict movies... In fact, Veer-Zaara is pretty damned good - 7.5/8 I\\'d say!'\n",
      "Label:  0\n"
     ]
    }
   ],
   "source": [
    "for text_batch, label_batch in raw_train_ds.take(1):\n",
    "    for i in range(3):\n",
    "        print(\"Review: \", text_batch.numpy()[i])\n",
    "        print(\"Label: \", label_batch.numpy()[i])"
   ]
  },
  {
   "cell_type": "code",
   "execution_count": 40,
   "id": "f332296b",
   "metadata": {},
   "outputs": [
    {
     "name": "stdout",
     "output_type": "stream",
     "text": [
      "Label 0 corresponds to neg\n",
      "Label 1 corresponds to pos\n"
     ]
    }
   ],
   "source": [
    "print(\"Label 0 corresponds to\", raw_train_ds.class_names[0])\n",
    "print(\"Label 1 corresponds to\", raw_train_ds.class_names[1])"
   ]
  },
  {
   "cell_type": "code",
   "execution_count": 42,
   "id": "9f4395f9",
   "metadata": {},
   "outputs": [
    {
     "name": "stdout",
     "output_type": "stream",
     "text": [
      "Found 25000 files belonging to 2 classes.\n",
      "Using 5000 files for validation.\n"
     ]
    }
   ],
   "source": [
    "raw_val_ds = tf.keras.preprocessing.text_dataset_from_directory(\n",
    "    'aclImdb/train',\n",
    "    batch_size=batch_size,\n",
    "    validation_split=0.2,\n",
    "    subset='validation',\n",
    "    seed=seed)"
   ]
  },
  {
   "cell_type": "code",
   "execution_count": 43,
   "id": "0cb21ac9",
   "metadata": {},
   "outputs": [
    {
     "name": "stdout",
     "output_type": "stream",
     "text": [
      "Found 25000 files belonging to 2 classes.\n"
     ]
    }
   ],
   "source": [
    "raw_test_ds = tf.keras.preprocessing.text_dataset_from_directory(\n",
    "    'aclImdb/test',\n",
    "    batch_size=batch_size)"
   ]
  }
 ],
 "metadata": {
  "kernelspec": {
   "display_name": "Python 3",
   "language": "python",
   "name": "python3"
  },
  "language_info": {
   "codemirror_mode": {
    "name": "ipython",
    "version": 3
   },
   "file_extension": ".py",
   "mimetype": "text/x-python",
   "name": "python",
   "nbconvert_exporter": "python",
   "pygments_lexer": "ipython3",
   "version": "3.8.8"
  }
 },
 "nbformat": 4,
 "nbformat_minor": 5
}
